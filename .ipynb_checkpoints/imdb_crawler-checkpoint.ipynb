{
 "cells": [
  {
   "cell_type": "code",
   "execution_count": 273,
   "metadata": {},
   "outputs": [],
   "source": [
    "from bs4 import BeautifulSoup\n",
    "import requests\n",
    "from datetime import datetime\n",
    "import csv\n",
    "import pandas as pd"
   ]
  },
  {
   "cell_type": "code",
   "execution_count": 263,
   "metadata": {},
   "outputs": [],
   "source": [
    "def crawl(id_list):\n",
    "    data = []\n",
    "    for movie in id_list:\n",
    "        url = 'http://www.imdb.com/title/' + str(movie) + '/'\n",
    "        response = requests.get(url)\n",
    "        soup = BeautifulSoup(response.content, \"html.parser\")\n",
    "        data.append(get_movie_data(soup, movie))\n",
    "    return data"
   ]
  },
  {
   "cell_type": "code",
   "execution_count": 267,
   "metadata": {},
   "outputs": [],
   "source": [
    "def get_movie_data(soup, mid):\n",
    "    data = []\n",
    "    tid = mid\n",
    "    name = get_movie_name(soup)\n",
    "    rating = get_movie_rating(soup)\n",
    "    genre = get_movie_genre(soup)\n",
    "    budget = get_movie_budget(soup)\n",
    "    date = get_movie_date(soup)\n",
    "    director = get_movie_director(soup)\n",
    "    stars = get_movie_stars(soup)\n",
    "    runtime = get_movie_runtime(soup)\n",
    "    data = [name, rating, genre, budget, \n",
    "                 runtime, date, director, \n",
    "                 stars[0], stars[1],stars[2]]\n",
    "    return data"
   ]
  },
  {
   "cell_type": "code",
   "execution_count": 268,
   "metadata": {},
   "outputs": [],
   "source": [
    "def get_movie_name(soup):\n",
    "    try:\n",
    "        name = soup.find(itemprop=\"name\").get_text()\n",
    "        name = name.replace(u'\\xa0', u' ')\n",
    "        idx = name.find(' (')\n",
    "        return name[:idx]\n",
    "    except:\n",
    "        return 'NA'\n",
    "def get_movie_rating(soup):\n",
    "    try:\n",
    "        rating = soup.find(itemprop=\"ratingValue\").get_text()\n",
    "        return float(rating)\n",
    "    except:\n",
    "        return 'NA'\n",
    "def get_movie_genre(soup):\n",
    "    try:\n",
    "        all_genre = ''\n",
    "        genre_list = soup.find_all('span', itemprop=\"genre\")\n",
    "        for s in genre_list:\n",
    "            all_genre += s.get_text() + ','\n",
    "        return all_genre[:-1]\n",
    "    except:\n",
    "        return 'NA'\n",
    "def get_movie_budget(soup):\n",
    "    try:\n",
    "        temp = soup.find('h3', text='Box Office').findNext().get_text()\n",
    "        s_idx = temp.find('$')\n",
    "        e_idx = temp.find(' (')\n",
    "        temp = temp[s_idx:e_idx].replace(',', '')\n",
    "        budget = int(temp.replace('$', ''))\n",
    "        return budget\n",
    "    except:\n",
    "        return 'NA'\n",
    "def get_movie_budget(soup):\n",
    "    try:\n",
    "        temp = soup.find('h4', text='Budget:').find_next_sibling(text=True)\n",
    "        s_idx = temp.find('$')\n",
    "        e_idx = temp.find(' (')\n",
    "        temp = temp[s_idx:e_idx].replace(',', '')\n",
    "        budget = int(temp.replace('$', ''))\n",
    "        return budget\n",
    "    except:\n",
    "        return 'NA'\n",
    "def get_movie_date(soup):\n",
    "    try:\n",
    "        temp = soup.find('h4', text='Release Date:').find_next_sibling(text=True)\n",
    "        s_idx = temp.find(': ')\n",
    "        e_idx = temp.find(' (')\n",
    "        d = temp[s_idx+1:e_idx].replace('\\n', '').replace(' ', '')\n",
    "        d = datetime.strptime(d, '%d%B%Y')\n",
    "        date = d.strftime('%Y/%m/%d')\n",
    "        return date\n",
    "    except:\n",
    "        return 'NA'\n",
    "def get_movie_runtime(soup):\n",
    "    try:\n",
    "        temp = soup.find('h4', text='Runtime:').find_next_sibling('time').get_text()\n",
    "        idx_m = temp.find(' min')\n",
    "        runtime = int(temp[:idx_m])\n",
    "        return runtime\n",
    "    except:\n",
    "        return 'NA'\n",
    "def get_movie_director(soup):\n",
    "    director = soup.find(itemprop=\"director\").find_next(itemprop=\"name\").get_text()\n",
    "    return director\n",
    "def get_movie_stars(soup):\n",
    "    stars_list = soup.find_all(itemprop=\"actors\")\n",
    "    stars = []\n",
    "    for s in stars_list:\n",
    "        stars.append(s.find_next(itemprop=\"name\").get_text())\n",
    "    return stars"
   ]
  },
  {
   "cell_type": "code",
   "execution_count": 269,
   "metadata": {},
   "outputs": [],
   "source": [
    "pd.read_csv('MOVIES.csv')\n",
    "id_list = ['tt3501632', 'tt1292566']\n",
    "result = crawl(id_list)"
   ]
  },
  {
   "cell_type": "code",
   "execution_count": 261,
   "metadata": {},
   "outputs": [],
   "source": [
    "col_name = ['title', 'rating', 'genre', 'budget', 'runtime', 'date', 'director', \n",
    "             'star_1', 'star_2','star_3']\n",
    "with open('imdb.csv', 'w', newline='') as csvfile:\n",
    "    writer = csv.writer(csvfile)\n",
    "    writer.writerow(col_name)\n",
    "    for i in range(len(result)):\n",
    "        writer.writerows(result[i])"
   ]
  },
  {
   "cell_type": "code",
   "execution_count": null,
   "metadata": {},
   "outputs": [],
   "source": []
  }
 ],
 "metadata": {
  "kernelspec": {
   "display_name": "Python 3",
   "language": "python",
   "name": "python3"
  },
  "language_info": {
   "codemirror_mode": {
    "name": "ipython",
    "version": 3
   },
   "file_extension": ".py",
   "mimetype": "text/x-python",
   "name": "python",
   "nbconvert_exporter": "python",
   "pygments_lexer": "ipython3",
   "version": "3.6.3"
  }
 },
 "nbformat": 4,
 "nbformat_minor": 2
}
