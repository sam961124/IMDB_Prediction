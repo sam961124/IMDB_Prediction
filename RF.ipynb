{
 "cells": [
  {
   "cell_type": "code",
   "execution_count": 1,
   "metadata": {},
   "outputs": [
    {
     "name": "stderr",
     "output_type": "stream",
     "text": [
      "Using TensorFlow backend.\n"
     ]
    }
   ],
   "source": [
    "import numpy as np\n",
    "import pandas as pd\n",
    "from sklearn.ensemble import RandomForestClassifier\n",
    "from sklearn.preprocessing import MultiLabelBinarizer\n",
    "from sklearn.ensemble import GradientBoostingClassifier\n",
    "from keras import backend as K\n",
    "from keras.models import Sequential\n",
    "from keras.layers import Input, Dense, Dropout, Activation, BatchNormalization, Lambda\n",
    "from keras.callbacks import EarlyStopping, ModelCheckpoint\n",
    "import matplotlib.pyplot as plt\n",
    "from keras.utils import np_utils"
   ]
  },
  {
   "cell_type": "code",
   "execution_count": 2,
   "metadata": {},
   "outputs": [],
   "source": [
    "data_file = pd.read_csv('MOVIES_WITHOUT_PTT_TIME_ASC.csv', encoding='cp950')\n",
    "data_length = len(data_file)"
   ]
  },
  {
   "cell_type": "code",
   "execution_count": 3,
   "metadata": {},
   "outputs": [],
   "source": [
    "country = []\n",
    "genre = []\n",
    "date = []\n",
    "for i in range(data_length):\n",
    "    t_country = str(data_file['COUNTRY'][i]).split(',')\n",
    "    t_genre = str(data_file['IMDB_GENRE'][i]).split(',')\n",
    "    t_date = str(data_file['DATE_TW'][i]).split('/')\n",
    "    t_date = [ int(d) for d in t_date]\n",
    "    country.append(t_country)\n",
    "    genre.append(t_genre)\n",
    "    date.append(t_date)"
   ]
  },
  {
   "cell_type": "code",
   "execution_count": 4,
   "metadata": {},
   "outputs": [],
   "source": [
    "mlb = MultiLabelBinarizer()\n",
    "country = mlb.fit_transform(country)\n",
    "genre = mlb.fit_transform(genre)"
   ]
  },
  {
   "cell_type": "code",
   "execution_count": 5,
   "metadata": {},
   "outputs": [],
   "source": [
    "date = np.array(date)\n",
    "runtime = np.array(data_file['IMDB_RUNTIME']).reshape(data_length, 1)\n",
    "dir_detail = np.array(data_file[['DIRECTOR_WINS', 'DIRECTOR_NOMINATIONS', \n",
    "                                 'DIRECTOR_RATINGS']])\n",
    "star_detail = np.array(data_file[['STAR_1_WINS', 'STAR_1_NOMINATIONS', \n",
    "                                  'STAR_1_RATINGS', 'STAR_2_WINS', \n",
    "                                  'STAR_2_NOMINATIONS', 'STAR_2_RATINGS', \n",
    "                                  'STAR_3_WINS', 'STAR_3_NOMINATIONS', \n",
    "                                  'STAR_3_RATINGS']])\n",
    "yahoo = np.array(data_file[['YAHOO_EVALUATION', 'YAHOO_VOTER']])\n",
    "PTT = np.array(data_file[['PTT_ARTICLE', 'PTT_PUSH', 'PTT_ARROW', \n",
    "                          'PTT_PULL', 'PTT_REPLY']])\n",
    "youtube = np.array(data_file[['YOUTUBE_VIEW', 'YOUTUBE_LIKE', 'YOUTUBE_DISLIKE']])"
   ]
  },
  {
   "cell_type": "code",
   "execution_count": 13,
   "metadata": {},
   "outputs": [],
   "source": [
    "x_train = np.concatenate((country, genre, runtime, dir_detail, star_detail, \n",
    "                          yahoo, PTT, youtube), axis=-1)\n",
    "rating = np.array(data_file['IMDB_RATING']).reshape(data_length, 1)"
   ]
  },
  {
   "cell_type": "code",
   "execution_count": 14,
   "metadata": {},
   "outputs": [],
   "source": [
    "mean = np.mean(x_train, axis=0)\n",
    "sigma = np.std(x_train, axis=0)\n",
    "x_train = (x_train-mean)/(sigma + 1e-20)"
   ]
  },
  {
   "cell_type": "code",
   "execution_count": 15,
   "metadata": {},
   "outputs": [],
   "source": [
    "# np.save('x_train', x_train)\n",
    "# np.save('y_train', y_train)"
   ]
  },
  {
   "cell_type": "code",
   "execution_count": 22,
   "metadata": {},
   "outputs": [],
   "source": [
    "model = Sequential()\n",
    "model.add(Dense(32, input_shape=(x_train.shape[1],), activation='relu'))\n",
    "model.add(BatchNormalization())\n",
    "model.add(Dropout(0.2))\n",
    "model.add(Dense(32, activation='relu'))\n",
    "model.add(BatchNormalization())\n",
    "model.add(Dropout(0.2))\n",
    "model.add(Dense(32, activation='relu'))\n",
    "model.add(BatchNormalization())\n",
    "model.add(Dropout(0.2))\n",
    "model.add(Dense(32, activation='relu'))\n",
    "model.add(BatchNormalization())\n",
    "model.add(Dropout(0.2))\n",
    "model.add(Dense(1, activation='relu'))\n",
    "model.add(Lambda(lambda x: x + K.constant(6.5558, dtype=K.floatx())))"
   ]
  },
  {
   "cell_type": "code",
   "execution_count": 23,
   "metadata": {},
   "outputs": [],
   "source": [
    "def rmse(y_true, y_pred):\n",
    "    K.clip(y_pred, 1.0, 5.0)\n",
    "    return K.sqrt(K.mean(K.pow(y_true - y_pred, 2)))"
   ]
  },
  {
   "cell_type": "code",
   "execution_count": 24,
   "metadata": {},
   "outputs": [
    {
     "name": "stdout",
     "output_type": "stream",
     "text": [
      "Train on 177 samples, validate on 20 samples\n",
      "Epoch 1/100\n",
      "177/177 [==============================] - 1s - loss: 2.1537 - mean_squared_error: 2.1537 - val_loss: 0.8957 - val_mean_squared_error: 0.8957\n",
      "Epoch 2/100\n",
      "177/177 [==============================] - 0s - loss: 1.6466 - mean_squared_error: 1.6466 - val_loss: 0.9088 - val_mean_squared_error: 0.9088\n",
      "Epoch 3/100\n",
      "177/177 [==============================] - 0s - loss: 1.3522 - mean_squared_error: 1.3522 - val_loss: 0.9126 - val_mean_squared_error: 0.9126\n",
      "Epoch 4/100\n",
      "177/177 [==============================] - 0s - loss: 1.1456 - mean_squared_error: 1.1456 - val_loss: 0.8906 - val_mean_squared_error: 0.8906\n",
      "Epoch 5/100\n",
      "177/177 [==============================] - 0s - loss: 0.9893 - mean_squared_error: 0.9893 - val_loss: 0.8772 - val_mean_squared_error: 0.8772\n",
      "Epoch 6/100\n",
      "177/177 [==============================] - 0s - loss: 1.0620 - mean_squared_error: 1.0620 - val_loss: 0.8702 - val_mean_squared_error: 0.8702\n",
      "Epoch 7/100\n",
      "177/177 [==============================] - 0s - loss: 1.0091 - mean_squared_error: 1.0091 - val_loss: 0.8485 - val_mean_squared_error: 0.8485\n",
      "Epoch 8/100\n",
      "177/177 [==============================] - 0s - loss: 1.0780 - mean_squared_error: 1.0780 - val_loss: 0.8580 - val_mean_squared_error: 0.8580\n",
      "Epoch 9/100\n",
      "177/177 [==============================] - 0s - loss: 0.8956 - mean_squared_error: 0.8956 - val_loss: 0.8605 - val_mean_squared_error: 0.8605\n",
      "Epoch 10/100\n",
      "177/177 [==============================] - 0s - loss: 0.9368 - mean_squared_error: 0.9368 - val_loss: 0.8566 - val_mean_squared_error: 0.8566\n",
      "Epoch 11/100\n",
      "177/177 [==============================] - 0s - loss: 0.9292 - mean_squared_error: 0.9292 - val_loss: 0.8701 - val_mean_squared_error: 0.8701\n"
     ]
    },
    {
     "data": {
      "text/plain": [
       "<keras.callbacks.History at 0x11f90306a58>"
      ]
     },
     "execution_count": 24,
     "metadata": {},
     "output_type": "execute_result"
    }
   ],
   "source": [
    "callbacks = []\n",
    "callbacks.append(ModelCheckpoint('model_' + str(i) + '.h5',\n",
    "                                 monitor='val_loss', save_best_only=True, period=1))\n",
    "callbacks.append(EarlyStopping(monitor='val_loss', patience=3))\n",
    "model.compile(loss='mse', optimizer='adam', metrics=['mse'])\n",
    "model.fit(x_train, rating, batch_size=5, validation_split=0.1, \n",
    "          epochs=100, callbacks=callbacks)"
   ]
  },
  {
   "cell_type": "code",
   "execution_count": 10,
   "metadata": {},
   "outputs": [],
   "source": [
    "y_train = []\n",
    "for r in rating:\n",
    "    temp = 0\n",
    "    if r >= 7:\n",
    "        temp = 1\n",
    "    elif r >= 6.2:\n",
    "        temp = 2\n",
    "    else:\n",
    "        temp = 3\n",
    "    y_train.append(temp)\n",
    "y_train = np.array(y_train)"
   ]
  },
  {
   "cell_type": "code",
   "execution_count": 11,
   "metadata": {
    "collapsed": true
   },
   "outputs": [],
   "source": [
    "x_valid = x_train[:20]\n",
    "y_valid = y_train[:20]\n",
    "\n",
    "x_train = x_train[20:]\n",
    "y_train = y_train[20:]"
   ]
  },
  {
   "cell_type": "code",
   "execution_count": 12,
   "metadata": {},
   "outputs": [
    {
     "data": {
      "text/plain": [
       "0.5"
      ]
     },
     "execution_count": 12,
     "metadata": {},
     "output_type": "execute_result"
    }
   ],
   "source": [
    "clf = GradientBoostingClassifier(n_estimators=40, min_samples_split=40, min_samples_leaf=3,\n",
    "                             max_leaf_nodes=15, max_depth=5, random_state=15)\n",
    "clf.fit(x_train, y_train)\n",
    "clf.score(x_valid, y_valid)"
   ]
  },
  {
   "cell_type": "code",
   "execution_count": null,
   "metadata": {
    "collapsed": true
   },
   "outputs": [],
   "source": []
  }
 ],
 "metadata": {
  "kernelspec": {
   "display_name": "Python 3",
   "language": "python",
   "name": "python3"
  },
  "language_info": {
   "codemirror_mode": {
    "name": "ipython",
    "version": 3
   },
   "file_extension": ".py",
   "mimetype": "text/x-python",
   "name": "python",
   "nbconvert_exporter": "python",
   "pygments_lexer": "ipython3",
   "version": "3.6.2"
  }
 },
 "nbformat": 4,
 "nbformat_minor": 2
}
